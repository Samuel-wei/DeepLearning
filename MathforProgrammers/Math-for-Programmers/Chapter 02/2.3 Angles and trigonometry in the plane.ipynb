{
 "cells": [
  {
   "cell_type": "markdown",
   "id": "4631e319",
   "metadata": {},
   "source": [
    "## 2.3 angles and trigonometry in the plane"
   ]
  },
  {
   "cell_type": "markdown",
   "id": "2248c958",
   "metadata": {},
   "source": [
    "### 2.3.2 Radians and trigonometry in Python"
   ]
  },
  {
   "cell_type": "code",
   "execution_count": 2,
   "id": "ce6efdd1",
   "metadata": {},
   "outputs": [],
   "source": [
    "from math import tan"
   ]
  },
  {
   "cell_type": "code",
   "execution_count": 3,
   "id": "91fffa9f",
   "metadata": {},
   "outputs": [
    {
     "data": {
      "text/plain": [
       "1.6197751905438615"
      ]
     },
     "execution_count": 3,
     "metadata": {},
     "output_type": "execute_result"
    }
   ],
   "source": [
    "tan(45)"
   ]
  },
  {
   "cell_type": "code",
   "execution_count": 4,
   "id": "b19e9540",
   "metadata": {},
   "outputs": [],
   "source": [
    "from math import tan, pi"
   ]
  },
  {
   "cell_type": "code",
   "execution_count": 5,
   "id": "8c3776ba",
   "metadata": {},
   "outputs": [
    {
     "data": {
      "text/plain": [
       "0.9999999999999999"
      ]
     },
     "execution_count": 5,
     "metadata": {},
     "output_type": "execute_result"
    }
   ],
   "source": [
    "tan(pi/4)"
   ]
  },
  {
   "cell_type": "code",
   "execution_count": 6,
   "id": "cb03ae03",
   "metadata": {},
   "outputs": [],
   "source": [
    "from math import sin, cos\n",
    "\n",
    "def to_cartesian(polar_vector):\n",
    "    length, angle = polar_vector[0], polar_vector[1]\n",
    "    return (length*cos(angle), length*sin(angle))"
   ]
  },
  {
   "cell_type": "code",
   "execution_count": 7,
   "id": "73ef84cb",
   "metadata": {},
   "outputs": [
    {
     "data": {
      "text/plain": [
       "(3.993177550236464, 3.0090751157602416)"
      ]
     },
     "execution_count": 7,
     "metadata": {},
     "output_type": "execute_result"
    }
   ],
   "source": [
    "from math import pi\n",
    "angle = 37*pi/180\n",
    "to_cartesian((5, angle))"
   ]
  },
  {
   "cell_type": "markdown",
   "id": "7b1a4f66",
   "metadata": {},
   "source": [
    "### 2.3.3 From components back to angles"
   ]
  },
  {
   "cell_type": "code",
   "execution_count": 8,
   "id": "ca606f3d",
   "metadata": {},
   "outputs": [],
   "source": [
    "from math import asin"
   ]
  },
  {
   "cell_type": "code",
   "execution_count": 9,
   "id": "03c3d92b",
   "metadata": {},
   "outputs": [
    {
     "data": {
      "text/plain": [
       "0.8414709848078965"
      ]
     },
     "execution_count": 9,
     "metadata": {},
     "output_type": "execute_result"
    }
   ],
   "source": [
    "sin(1)"
   ]
  },
  {
   "cell_type": "code",
   "execution_count": 10,
   "id": "2ad1b1ec",
   "metadata": {},
   "outputs": [
    {
     "data": {
      "text/plain": [
       "1.0"
      ]
     },
     "execution_count": 10,
     "metadata": {},
     "output_type": "execute_result"
    }
   ],
   "source": [
    "asin(0.8414709848078965)"
   ]
  },
  {
   "cell_type": "code",
   "execution_count": 11,
   "id": "e8f06d40",
   "metadata": {},
   "outputs": [],
   "source": [
    "from math import sqrt"
   ]
  },
  {
   "cell_type": "code",
   "execution_count": 12,
   "id": "f0eb7d59",
   "metadata": {},
   "outputs": [
    {
     "data": {
      "text/plain": [
       "0.9827937232473292"
      ]
     },
     "execution_count": 12,
     "metadata": {},
     "output_type": "execute_result"
    }
   ],
   "source": [
    "asin(3/sqrt(13))"
   ]
  },
  {
   "cell_type": "code",
   "execution_count": 13,
   "id": "6eb15731",
   "metadata": {},
   "outputs": [],
   "source": [
    "from math import acos"
   ]
  },
  {
   "cell_type": "code",
   "execution_count": 14,
   "id": "0077edea",
   "metadata": {},
   "outputs": [
    {
     "data": {
      "text/plain": [
       "2.1587989303424644"
      ]
     },
     "execution_count": 14,
     "metadata": {},
     "output_type": "execute_result"
    }
   ],
   "source": [
    "acos(-2/sqrt(13))"
   ]
  },
  {
   "cell_type": "code",
   "execution_count": 15,
   "id": "a20aa622",
   "metadata": {},
   "outputs": [
    {
     "data": {
      "text/plain": [
       "-0.5547001962252293"
      ]
     },
     "execution_count": 15,
     "metadata": {},
     "output_type": "execute_result"
    }
   ],
   "source": [
    "cos(2.1587989303424644)"
   ]
  },
  {
   "cell_type": "code",
   "execution_count": 16,
   "id": "81927a3a",
   "metadata": {},
   "outputs": [
    {
     "data": {
      "text/plain": [
       "-0.5547001962252291"
      ]
     },
     "execution_count": 16,
     "metadata": {},
     "output_type": "execute_result"
    }
   ],
   "source": [
    "-2/sqrt(13)"
   ]
  },
  {
   "cell_type": "code",
   "execution_count": 17,
   "id": "843f04ab",
   "metadata": {},
   "outputs": [
    {
     "data": {
      "text/plain": [
       "0.8320502943378436"
      ]
     },
     "execution_count": 17,
     "metadata": {},
     "output_type": "execute_result"
    }
   ],
   "source": [
    "sin(2.1587989303424644)"
   ]
  },
  {
   "cell_type": "code",
   "execution_count": 18,
   "id": "8e797b8d",
   "metadata": {},
   "outputs": [
    {
     "data": {
      "text/plain": [
       "0.8320502943378437"
      ]
     },
     "execution_count": 18,
     "metadata": {},
     "output_type": "execute_result"
    }
   ],
   "source": [
    "3/sqrt(13)"
   ]
  },
  {
   "cell_type": "code",
   "execution_count": 19,
   "id": "286c58e4",
   "metadata": {},
   "outputs": [],
   "source": [
    "from math import atan2"
   ]
  },
  {
   "cell_type": "code",
   "execution_count": 23,
   "id": "ff5f0358",
   "metadata": {},
   "outputs": [
    {
     "data": {
      "text/plain": [
       "2.158798930342464"
      ]
     },
     "execution_count": 23,
     "metadata": {},
     "output_type": "execute_result"
    }
   ],
   "source": [
    "atan2(3,-2)"
   ]
  },
  {
   "cell_type": "code",
   "execution_count": 24,
   "id": "12fc770b",
   "metadata": {},
   "outputs": [],
   "source": [
    "def length(v):\n",
    "    return sqrt(v[0]**2 + v[1]**2)"
   ]
  },
  {
   "cell_type": "code",
   "execution_count": 25,
   "id": "c8e99239",
   "metadata": {},
   "outputs": [
    {
     "data": {
      "text/plain": [
       "1.0"
      ]
     },
     "execution_count": 25,
     "metadata": {},
     "output_type": "execute_result"
    }
   ],
   "source": [
    "length((1,0))"
   ]
  },
  {
   "cell_type": "code",
   "execution_count": 26,
   "id": "e8936a35",
   "metadata": {},
   "outputs": [],
   "source": [
    "def to_polar(vector):\n",
    "    x, y = vector[0], vector[1]\n",
    "    angle = atan2(y,x)\n",
    "    return (length(vector), angle)\n",
    " "
   ]
  },
  {
   "cell_type": "code",
   "execution_count": 27,
   "id": "d15d08d6",
   "metadata": {},
   "outputs": [
    {
     "data": {
      "text/plain": [
       "(1.0, 0.0)"
      ]
     },
     "execution_count": 27,
     "metadata": {},
     "output_type": "execute_result"
    }
   ],
   "source": [
    "to_polar((1,0))"
   ]
  },
  {
   "cell_type": "code",
   "execution_count": 28,
   "id": "17330909",
   "metadata": {},
   "outputs": [
    {
     "data": {
      "text/plain": [
       "(3.605551275463989, 2.158798930342464)"
      ]
     },
     "execution_count": 28,
     "metadata": {},
     "output_type": "execute_result"
    }
   ],
   "source": [
    "to_polar((-2,3))"
   ]
  },
  {
   "cell_type": "markdown",
   "id": "8218bcef",
   "metadata": {},
   "source": [
    "## Exercises"
   ]
  },
  {
   "cell_type": "markdown",
   "id": "ecf8559a",
   "metadata": {},
   "source": [
    "### 2.3.4"
   ]
  },
  {
   "cell_type": "markdown",
   "id": "d54abe25",
   "metadata": {},
   "source": [
    "#### 2.27"
   ]
  },
  {
   "cell_type": "code",
   "execution_count": null,
   "id": "48a05d0e",
   "metadata": {},
   "outputs": [
    {
     "data": {
      "text/plain": [
       "2.9963310898497184"
      ]
     },
     "execution_count": 63,
     "metadata": {},
     "output_type": "execute_result"
    }
   ],
   "source": [
    "length((-1.34,2.68))"
   ]
  },
  {
   "cell_type": "markdown",
   "id": "2844567a",
   "metadata": {},
   "source": [
    "#### 2.28"
   ]
  },
  {
   "cell_type": "code",
   "execution_count": 41,
   "id": "75f35f66",
   "metadata": {},
   "outputs": [
    {
     "data": {
      "text/plain": [
       "0.4040262258351568"
      ]
     },
     "execution_count": 41,
     "metadata": {},
     "output_type": "execute_result"
    }
   ],
   "source": [
    "tan(22*pi/180)"
   ]
  },
  {
   "cell_type": "markdown",
   "id": "57117324",
   "metadata": {},
   "source": [
    "#### 2.29"
   ]
  },
  {
   "cell_type": "code",
   "execution_count": 35,
   "id": "8ae0faf8",
   "metadata": {},
   "outputs": [
    {
     "data": {
      "text/plain": [
       "(11.979532650709393, 9.027225347280725)"
      ]
     },
     "execution_count": 35,
     "metadata": {},
     "output_type": "execute_result"
    }
   ],
   "source": [
    "angle = 37*pi/180\n",
    "to_cartesian((15, angle))"
   ]
  },
  {
   "cell_type": "code",
   "execution_count": null,
   "id": "e7998d1b",
   "metadata": {},
   "outputs": [],
   "source": []
  }
 ],
 "metadata": {
  "kernelspec": {
   "display_name": "Python 3.8.0 64-bit",
   "language": "python",
   "name": "python3"
  },
  "language_info": {
   "codemirror_mode": {
    "name": "ipython",
    "version": 3
   },
   "file_extension": ".py",
   "mimetype": "text/x-python",
   "name": "python",
   "nbconvert_exporter": "python",
   "pygments_lexer": "ipython3",
   "version": "3.6.9"
  },
  "vscode": {
   "interpreter": {
    "hash": "31f2aee4e71d21fbe5cf8b01ff0e069b9275f58929596ceb00d14d90e3e16cd6"
   }
  }
 },
 "nbformat": 4,
 "nbformat_minor": 5
}
