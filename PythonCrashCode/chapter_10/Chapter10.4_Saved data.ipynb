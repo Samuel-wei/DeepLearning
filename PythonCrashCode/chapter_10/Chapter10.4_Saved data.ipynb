{
 "cells": [
  {
   "cell_type": "markdown",
   "id": "0ed2e8e2",
   "metadata": {},
   "source": [
    "## 10.4 Saved data"
   ]
  },
  {
   "cell_type": "markdown",
   "id": "7223e3b3",
   "metadata": {},
   "source": [
    "### 10.4.1 Use json.dump() and json.load()-number_writer"
   ]
  },
  {
   "cell_type": "code",
   "execution_count": 1,
   "id": "8aedc22e",
   "metadata": {},
   "outputs": [],
   "source": [
    "import json\n",
    "\n",
    "numbers = [2, 3, 5, 7, 11, 13]\n",
    "\n",
    "filename = 'numbers.json'\n",
    "with open(filename, 'w') as f_obj:\n",
    "    json.dump(numbers, f_obj)"
   ]
  },
  {
   "cell_type": "code",
   "execution_count": 2,
   "id": "128df9da",
   "metadata": {},
   "outputs": [
    {
     "name": "stdout",
     "output_type": "stream",
     "text": [
      "[2, 3, 5, 7, 11, 13]\n"
     ]
    }
   ],
   "source": [
    "import json\n",
    "\n",
    "filename = 'numbers.json'\n",
    "with open(filename) as f_obj:\n",
    "    numbers = json.load(f_obj)\n",
    "    \n",
    "print(numbers)"
   ]
  },
  {
   "cell_type": "markdown",
   "id": "16ac27f2",
   "metadata": {},
   "source": [
    "### 10.4.2 Saved and read user make up data"
   ]
  },
  {
   "cell_type": "code",
   "execution_count": 3,
   "id": "22086f2d",
   "metadata": {},
   "outputs": [
    {
     "name": "stdout",
     "output_type": "stream",
     "text": [
      "What is your name?Samuel\n",
      "We'll remember you when you come back, Samuel!\n"
     ]
    }
   ],
   "source": [
    "import json\n",
    "\n",
    "username = input(\"What is your name?\")\n",
    "\n",
    "filename = 'username.json'\n",
    "with open(filename, 'w') as f_obj:\n",
    "    json.dump(username, f_obj)\n",
    "    print(\"We'll remember you when you come back, \" + username + \"!\")"
   ]
  },
  {
   "cell_type": "code",
   "execution_count": 4,
   "id": "5012a194",
   "metadata": {},
   "outputs": [
    {
     "name": "stdout",
     "output_type": "stream",
     "text": [
      "Welcome back, Samuel!\n"
     ]
    }
   ],
   "source": [
    "import json \n",
    "\n",
    "filename = 'username.json'\n",
    "\n",
    "with open(filename) as f_obj:\n",
    "    username = json.load(f_obj)\n",
    "    print(\"Welcome back, \" + username + \"!\")"
   ]
  },
  {
   "cell_type": "code",
   "execution_count": 7,
   "id": "b12cc5ff",
   "metadata": {},
   "outputs": [
    {
     "name": "stdout",
     "output_type": "stream",
     "text": [
      "What is your name? Wanda\n",
      "We'll remember you when you come back, Wanda!\n"
     ]
    }
   ],
   "source": [
    "import json\n",
    "filename = 'username.json'\n",
    "try:\n",
    "    with open(filename) as f_obj:\n",
    "        username = json.load(f_obj)\n",
    "except FileNotFoundError:\n",
    "    username = input(\"What is your name? \")\n",
    "    with open(filename, 'w') as f_obj:\n",
    "        json.dump(username, f_obj)\n",
    "        print(\"We'll remember you when you come back, \" + username + \"!\")\n",
    "else:\n",
    "    print(\"Welcome back, \" + username + \"!\")"
   ]
  },
  {
   "cell_type": "markdown",
   "id": "e4defc92",
   "metadata": {},
   "source": [
    "### 10.4.3 Refactoring"
   ]
  },
  {
   "cell_type": "code",
   "execution_count": 9,
   "id": "5c5d1ef6",
   "metadata": {},
   "outputs": [
    {
     "name": "stdout",
     "output_type": "stream",
     "text": [
      "Welcome back, Wanda!\n"
     ]
    }
   ],
   "source": [
    "import json\n",
    "\n",
    "def greet_user():\n",
    "    \"\"\"问候用户，并指出其名字\"\"\"\n",
    "    filename = 'username.json'\n",
    "    try:\n",
    "        with open(filename) as f_obj:\n",
    "            username = json.load(f_obj)\n",
    "    except FileNotFoundError:\n",
    "        username = input(\"What is your name? \")\n",
    "        with open(filename, 'w') as f_obj:\n",
    "            json.dump(username, f_obj)\n",
    "            print(\"We'll remember you when you come back, \" + username + \"!\")\n",
    "    else:\n",
    "        print(\"Welcome back, \" + username + \"!\")\n",
    "    \n",
    "greet_user()"
   ]
  },
  {
   "cell_type": "code",
   "execution_count": 10,
   "id": "35b8726f",
   "metadata": {},
   "outputs": [
    {
     "name": "stdout",
     "output_type": "stream",
     "text": [
      "Welcome back, Wanda!\n"
     ]
    }
   ],
   "source": [
    "import json\n",
    "\n",
    "def get_stored_username():\n",
    "    \"\"\"如果存储了用户名，就获取它\"\"\"\n",
    "    filename = 'username.json'\n",
    "    try:\n",
    "        with open(filename) as f_obj:\n",
    "            username = json.load(f_obj)\n",
    "    except FileNotFoundError:\n",
    "        return None\n",
    "    else:\n",
    "        return username\n",
    "    \n",
    "def greet_user():\n",
    "    \"\"\"greet user and indicate user name\"\"\"\n",
    "    username = get_stored_username()\n",
    "    if username:\n",
    "        print(\"Welcome back, \" + username + '!')\n",
    "    else:\n",
    "        username = input(\"What is your name?\")\n",
    "        filename = 'username.json'\n",
    "        with open(filename, 'w') as f_obj:\n",
    "            json.dump(username, f_obj)\n",
    "            print(\"We'll remember you when you come back, \" + username + \"!\")\n",
    "            \n",
    "greet_user()"
   ]
  },
  {
   "cell_type": "code",
   "execution_count": 11,
   "id": "4809e11e",
   "metadata": {},
   "outputs": [
    {
     "name": "stdout",
     "output_type": "stream",
     "text": [
      "Welcome back, Wanda!\n"
     ]
    }
   ],
   "source": [
    "import json\n",
    "\n",
    "def get_stored_username():\n",
    "    \"\"\"If the username is existed, get it\"\"\"\n",
    "    filename = 'username.json'\n",
    "    try:\n",
    "        with open(filename) as f_obj:\n",
    "            username = json.load(f_obj)\n",
    "    except FileNotFoundError:\n",
    "        return None\n",
    "    else:\n",
    "        return username\n",
    "\n",
    "def get_new_username():\n",
    "    \"\"\"Prompt enter user name\"\"\"\n",
    "    username = input(\"What is your name? \")\n",
    "    filename = 'username.json'\n",
    "    with open(filename) as f_obj:\n",
    "        json.dump(username, f_obj)\n",
    "    return username\n",
    "\n",
    "def greet_user():\n",
    "    \"\"\"Greet user and indicate it's name\"\"\"\n",
    "    username = get_stored_username()\n",
    "    if username:\n",
    "        print(\"Welcome back, \" + username + \"!\")\n",
    "    else:\n",
    "        username = get_new_username()\n",
    "        print(\"We'll remember you when you come back, \" + username + \"!\")\n",
    "        \n",
    "greet_user()"
   ]
  },
  {
   "cell_type": "code",
   "execution_count": null,
   "id": "3b0f69a7",
   "metadata": {},
   "outputs": [],
   "source": []
  }
 ],
 "metadata": {
  "kernelspec": {
   "display_name": "Python 3",
   "language": "python",
   "name": "python3"
  },
  "language_info": {
   "codemirror_mode": {
    "name": "ipython",
    "version": 3
   },
   "file_extension": ".py",
   "mimetype": "text/x-python",
   "name": "python",
   "nbconvert_exporter": "python",
   "pygments_lexer": "ipython3",
   "version": "3.6.9"
  }
 },
 "nbformat": 4,
 "nbformat_minor": 5
}
