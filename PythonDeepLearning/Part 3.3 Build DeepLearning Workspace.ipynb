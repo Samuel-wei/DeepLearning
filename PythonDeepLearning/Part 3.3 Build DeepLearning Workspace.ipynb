{
 "cells": [
  {
   "cell_type": "markdown",
   "id": "77b67af9",
   "metadata": {},
   "source": [
    "## 3.3 Build DeepLearning Workspace"
   ]
  },
  {
   "cell_type": "markdown",
   "id": "12485d15",
   "metadata": {},
   "source": [
    "### 3.3.1 The first was Jupyter Notebook: The first method of operation deeplearning experiment"
   ]
  },
  {
   "cell_type": "markdown",
   "id": "65dffcaa",
   "metadata": {},
   "source": [
    "### 3.3.2 Operation Keras: either"
   ]
  },
  {
   "cell_type": "markdown",
   "id": "c3c0f5d7",
   "metadata": {},
   "source": [
    "### 3.3.3 The better operation deeplearning more in cloud"
   ]
  },
  {
   "cell_type": "markdown",
   "id": "fb751af3",
   "metadata": {},
   "source": [
    "### 3.3.4 The GPU is the best DeepLearning"
   ]
  },
  {
   "cell_type": "code",
   "execution_count": null,
   "id": "9ad7d6dd",
   "metadata": {},
   "outputs": [],
   "source": []
  }
 ],
 "metadata": {
  "kernelspec": {
   "display_name": "Python 3",
   "language": "python",
   "name": "python3"
  },
  "language_info": {
   "codemirror_mode": {
    "name": "ipython",
    "version": 3
   },
   "file_extension": ".py",
   "mimetype": "text/x-python",
   "name": "python",
   "nbconvert_exporter": "python",
   "pygments_lexer": "ipython3",
   "version": "3.6.9"
  }
 },
 "nbformat": 4,
 "nbformat_minor": 5
}
