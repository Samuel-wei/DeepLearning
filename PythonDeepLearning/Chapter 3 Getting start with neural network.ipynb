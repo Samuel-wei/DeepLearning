{
 "cells": [
  {
   "cell_type": "markdown",
   "id": "b7bf42a8",
   "metadata": {},
   "source": [
    "# Chart3"
   ]
  },
  {
   "cell_type": "markdown",
   "id": "effbd030",
   "metadata": {},
   "source": [
    "## Part 3.1  Neural Network Parse"
   ]
  },
  {
   "cell_type": "markdown",
   "id": "5ed60951",
   "metadata": {},
   "source": [
    "### Part 3.1.1 layer: Base component of DeepLearning "
   ]
  },
  {
   "cell_type": "code",
   "execution_count": 1,
   "id": "659deedb",
   "metadata": {},
   "outputs": [],
   "source": [
    "from keras import layers"
   ]
  },
  {
   "cell_type": "code",
   "execution_count": 2,
   "id": "81d88f74",
   "metadata": {},
   "outputs": [],
   "source": [
    "layer = layers.Dense(32, input_shape=(784,))  #It's Dense layer that had 32 layer output element."
   ]
  },
  {
   "cell_type": "code",
   "execution_count": 3,
   "id": "e9ab1edf",
   "metadata": {},
   "outputs": [],
   "source": [
    "from keras import models\n",
    "from keras import layers"
   ]
  },
  {
   "cell_type": "code",
   "execution_count": 4,
   "id": "48abb540",
   "metadata": {},
   "outputs": [],
   "source": [
    "model = models.Sequential()\n",
    "model.add(layers.Dense(32, input_shape=(784,)))\n",
    "model.add(layers.Dense(32))"
   ]
  },
  {
   "cell_type": "markdown",
   "id": "06a17b77",
   "metadata": {},
   "source": [
    "### 3.1.2 Model: Net of layers"
   ]
  },
  {
   "cell_type": "markdown",
   "id": "ee6997aa",
   "metadata": {},
   "source": [
    "### 3.1.3 Loss function with optimization: the key of config learning process"
   ]
  },
  {
   "cell_type": "markdown",
   "id": "d8e2c8f6",
   "metadata": {},
   "source": [
    "## 3.2 Keras Introduction"
   ]
  },
  {
   "cell_type": "markdown",
   "id": "1ef9dff1",
   "metadata": {},
   "source": [
    "### 3.2.1 Keras TensorFlow Theano and CNTK"
   ]
  },
  {
   "cell_type": "markdown",
   "id": "33b6895b",
   "metadata": {},
   "source": [
    "### 3.2.2 Usage Keras develop: Overview"
   ]
  },
  {
   "cell_type": "code",
   "execution_count": 7,
   "id": "2af619f7",
   "metadata": {},
   "outputs": [],
   "source": [
    "input_tensor = layers.Input(shape=(784,))\n",
    "x = layers.Dense(32, activation='relu')(input_tensor)\n",
    "output_tensor = layers.Dense(10, activation='softmax')(x)\n",
    "\n",
    "model = models.Model(inputs=input_tensor, outputs=output_tensor)"
   ]
  },
  {
   "cell_type": "code",
   "execution_count": 11,
   "id": "47e3cb27",
   "metadata": {},
   "outputs": [
    {
     "ename": "NameError",
     "evalue": "name 'target_tensor' is not defined",
     "output_type": "error",
     "traceback": [
      "\u001b[0;31m---------------------------------------------------------------------------\u001b[0m",
      "\u001b[0;31mNameError\u001b[0m                                 Traceback (most recent call last)",
      "\u001b[0;32m<ipython-input-11-691724a012c5>\u001b[0m in \u001b[0;36m<module>\u001b[0;34m\u001b[0m\n\u001b[1;32m      5\u001b[0m               metrics=['accuracy'])\n\u001b[1;32m      6\u001b[0m \u001b[0;34m\u001b[0m\u001b[0m\n\u001b[0;32m----> 7\u001b[0;31m \u001b[0mmodel\u001b[0m\u001b[0;34m.\u001b[0m\u001b[0mfit\u001b[0m\u001b[0;34m(\u001b[0m\u001b[0minput_tensor\u001b[0m\u001b[0;34m,\u001b[0m \u001b[0mtarget_tensor\u001b[0m\u001b[0;34m,\u001b[0m \u001b[0mbatch_size\u001b[0m\u001b[0;34m=\u001b[0m\u001b[0;36m128\u001b[0m\u001b[0;34m,\u001b[0m \u001b[0mepochs\u001b[0m\u001b[0;34m=\u001b[0m\u001b[0;36m10\u001b[0m\u001b[0;34m)\u001b[0m\u001b[0;34m\u001b[0m\u001b[0;34m\u001b[0m\u001b[0m\n\u001b[0m",
      "\u001b[0;31mNameError\u001b[0m: name 'target_tensor' is not defined"
     ]
    }
   ],
   "source": [
    "from keras import optimizers\n",
    "\n",
    "model.compile(optimizer=optimizers.RMSprop(lr=0.001),\n",
    "              loss='mse',\n",
    "              metrics=['accuracy'])\n",
    "\n",
    "model.fit(input_tensor, target_tensor, batch_size=128, epochs=10)"
   ]
  },
  {
   "cell_type": "code",
   "execution_count": null,
   "id": "96b5875a",
   "metadata": {},
   "outputs": [],
   "source": []
  }
 ],
 "metadata": {
  "kernelspec": {
   "display_name": "Python 3",
   "language": "python",
   "name": "python3"
  },
  "language_info": {
   "codemirror_mode": {
    "name": "ipython",
    "version": 3
   },
   "file_extension": ".py",
   "mimetype": "text/x-python",
   "name": "python",
   "nbconvert_exporter": "python",
   "pygments_lexer": "ipython3",
   "version": "3.6.9"
  }
 },
 "nbformat": 4,
 "nbformat_minor": 5
}
