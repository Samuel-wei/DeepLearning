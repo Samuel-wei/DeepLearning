{
 "cells": [
  {
   "cell_type": "markdown",
   "id": "952167fc",
   "metadata": {},
   "source": [
    "## 10.2 Write File"
   ]
  },
  {
   "cell_type": "markdown",
   "id": "4a8d784e",
   "metadata": {},
   "source": [
    "### 10.2.1 Write void file"
   ]
  },
  {
   "cell_type": "code",
   "execution_count": 3,
   "id": "a1c99f36",
   "metadata": {},
   "outputs": [],
   "source": [
    "filename = 'programming.txt'\n",
    "\n",
    "with open(filename, 'w') as file_object:\n",
    "    file_object.write(\"I love programming.\")"
   ]
  },
  {
   "cell_type": "markdown",
   "id": "1760f73d",
   "metadata": {},
   "source": [
    "### 10.2.2 Write multiple line"
   ]
  },
  {
   "cell_type": "code",
   "execution_count": 4,
   "id": "0c4e8707",
   "metadata": {},
   "outputs": [],
   "source": [
    "filename = 'programming.txt'\n",
    "\n",
    "with open(filename, 'w') as file_object:\n",
    "    file_object.write(\"I love programming.\")\n",
    "    file_object.write(\"I love creating new games.\")"
   ]
  },
  {
   "cell_type": "code",
   "execution_count": 5,
   "id": "c21af5dc",
   "metadata": {},
   "outputs": [],
   "source": [
    "filename = 'programming.txt'\n",
    "\n",
    "with open(filename, 'w') as file_object:\n",
    "    file_object.write(\"I love programming.\\n\")\n",
    "    file_object.write(\"I love createing new games.\\n\")"
   ]
  },
  {
   "cell_type": "markdown",
   "id": "5f152e75",
   "metadata": {},
   "source": [
    "### 10.2.3 Adding to file"
   ]
  },
  {
   "cell_type": "code",
   "execution_count": null,
   "id": "eae512a6",
   "metadata": {},
   "outputs": [],
   "source": []
  }
 ],
 "metadata": {
  "kernelspec": {
   "display_name": "Python 3",
   "language": "python",
   "name": "python3"
  },
  "language_info": {
   "codemirror_mode": {
    "name": "ipython",
    "version": 3
   },
   "file_extension": ".py",
   "mimetype": "text/x-python",
   "name": "python",
   "nbconvert_exporter": "python",
   "pygments_lexer": "ipython3",
   "version": "3.6.9"
  }
 },
 "nbformat": 4,
 "nbformat_minor": 5
}
